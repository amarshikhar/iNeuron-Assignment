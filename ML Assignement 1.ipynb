{
 "cells": [
  {
   "cell_type": "markdown",
   "id": "declared-basketball",
   "metadata": {},
   "source": [
    "1.What does one mean by the term machine learning?"
   ]
  },
  {
   "cell_type": "markdown",
   "id": "tough-shannon",
   "metadata": {},
   "source": [
    "Ans.In machine learning we input data(train) and its output(label) in computer which then process it and gives output as program. Then we input data(test) and program into the computer and get the output(label of test data)."
   ]
  },
  {
   "cell_type": "markdown",
   "id": "indian-scope",
   "metadata": {},
   "source": [
    "2.Can you think of 4 distinct types of issues where it shines?"
   ]
  },
  {
   "cell_type": "markdown",
   "id": "minor-accreditation",
   "metadata": {},
   "source": [
    "Ans.Spam filter, web search, natural language processing and computer vision"
   ]
  },
  {
   "cell_type": "markdown",
   "id": "seven-foundation",
   "metadata": {},
   "source": [
    "3.What is a labeled training set, and how does it work?"
   ]
  },
  {
   "cell_type": "markdown",
   "id": "harmful-variation",
   "metadata": {},
   "source": [
    "Ans. Labeled training set is processed by computer which gives output as a program. Then test data and that program can be then processed by computer to output label on test data."
   ]
  },
  {
   "cell_type": "markdown",
   "id": "complimentary-tours",
   "metadata": {},
   "source": [
    "4.What are the two most important tasks that are supervised?"
   ]
  },
  {
   "cell_type": "markdown",
   "id": "sorted-guatemala",
   "metadata": {},
   "source": [
    "Ans. Two most common supervised tasks are classification and regression."
   ]
  },
  {
   "cell_type": "markdown",
   "id": "normal-pencil",
   "metadata": {},
   "source": [
    "5.Can you think of four examples of unsupervised tasks?"
   ]
  },
  {
   "cell_type": "markdown",
   "id": "responsible-manner",
   "metadata": {},
   "source": [
    "Ans. clustering, visualization, dimensionality reduction, and association rule learning. "
   ]
  },
  {
   "cell_type": "markdown",
   "id": "satisfactory-mileage",
   "metadata": {},
   "source": [
    "6.State the machine learning model that would be best to make a robot walk through various\n",
    "unfamiliar terrains?"
   ]
  },
  {
   "cell_type": "markdown",
   "id": "indonesian-vatican",
   "metadata": {},
   "source": [
    "Ans.Reinforced learning algorithm"
   ]
  },
  {
   "cell_type": "markdown",
   "id": "polished-pizza",
   "metadata": {},
   "source": [
    "7.Which algorithm will you use to divide your customers into different groups?"
   ]
  },
  {
   "cell_type": "markdown",
   "id": "beneficial-optics",
   "metadata": {},
   "source": [
    "Ans.Supervised learning if groups have known labels or unsupervised learning if we don't know group label."
   ]
  },
  {
   "cell_type": "markdown",
   "id": "occasional-arthur",
   "metadata": {},
   "source": [
    "8.Will you consider the problem of spam detection to be a supervised or unsupervised learning\n",
    "problem?"
   ]
  },
  {
   "cell_type": "markdown",
   "id": "consolidated-museum",
   "metadata": {},
   "source": [
    "Ans. Spam detection is a supervised machine learning problem. This means you must provide your machine learning model with a set of examples of spam and ham messages and let it find the relevant patterns that separate the two different categories."
   ]
  },
  {
   "cell_type": "markdown",
   "id": "characteristic-organizer",
   "metadata": {},
   "source": [
    "9.What is the concept of an online learning system?"
   ]
  },
  {
   "cell_type": "markdown",
   "id": "sublime-ethiopia",
   "metadata": {},
   "source": [
    "Ans. Machine learns as data is given in small streams continuously."
   ]
  },
  {
   "cell_type": "markdown",
   "id": "turned-helen",
   "metadata": {},
   "source": [
    "10.What is out-of-core learning, and how does it differ from core learning?"
   ]
  },
  {
   "cell_type": "markdown",
   "id": "correct-accommodation",
   "metadata": {},
   "source": [
    "Ans. It is a system in which we handle data than cannot fit in computer memory,but that can easily fit into some data storage such as a local hard disk or web repository.\n",
    "Simply put, the Core Machine Learning Framework enables developers to integrate their machine learning models into iOS applications. The underlying technologies powering Core ML are both CPU and GPU. Notably, the machine models run on respective devices allowing local analysis of data."
   ]
  },
  {
   "cell_type": "markdown",
   "id": "prerequisite-cisco",
   "metadata": {},
   "source": [
    "11.What kind of learning algorithm makes predictions using a similarity measure?"
   ]
  },
  {
   "cell_type": "markdown",
   "id": "duplicate-article",
   "metadata": {},
   "source": [
    "Ans.Learning algorithm that relies on a similarity measure to make predictions is instance-based algorithm.eg.k-nearest neighbors algorithm, kernel machines and RBF networks."
   ]
  },
  {
   "cell_type": "markdown",
   "id": "lightweight-colleague",
   "metadata": {},
   "source": [
    "12.What's the difference between a model parameter and a hyperparameter in a learning\n",
    "algorithm?"
   ]
  },
  {
   "cell_type": "markdown",
   "id": "referenced-madagascar",
   "metadata": {},
   "source": [
    "Ans.Model Parameters: These are the parameters in the model that must be determined using the training data set. These are the fitted parameters. Hyperparameters: These are adjustable parameters that must be tuned in order to obtain a model with optimal performance."
   ]
  },
  {
   "cell_type": "markdown",
   "id": "prepared-martin",
   "metadata": {},
   "source": [
    "13.What are the criteria that model-based learning algorithms look for? What is the most popular\n",
    "method they use to achieve success? What method do they use to make predictions?"
   ]
  },
  {
   "cell_type": "markdown",
   "id": "velvet-thriller",
   "metadata": {},
   "source": [
    "Ans.The goal for a model-based algorithm is to be able to generalize to new examples. To do this, model based algorithms search for optimal values for the model's parameters, often. This searching, or \"learning\", is what machine learning is all about. Model-based system learn by minimizing a cost/loss function that measures how bad the system is at making predicitons on new data, plus a penalty for model complexity if the model is regularized. To make a prediction, a new instance's features are fed into a hypothesis function which uses the minimized paramenter found by repeatedly running the cost function."
   ]
  },
  {
   "cell_type": "markdown",
   "id": "sonic-divorce",
   "metadata": {},
   "source": [
    "14. Can you name 4 of the main challenges in Machine Learning?\n"
   ]
  },
  {
   "cell_type": "markdown",
   "id": "toxic-procedure",
   "metadata": {},
   "source": [
    "Ans.Data missing values, Overfitting, underfitting, Too much noise in data."
   ]
  },
  {
   "cell_type": "markdown",
   "id": "informative-heart",
   "metadata": {},
   "source": [
    "15. If your model performs great on the training data but generalizes poorly to new instances, what is happening? Can you name 3 possible solutions?"
   ]
  },
  {
   "cell_type": "markdown",
   "id": "collective-issue",
   "metadata": {},
   "source": [
    "Ans. We are experiencing overfitting of training data. To solve it we can 1.have more training data, 2. increse model complexity by removing features or constraining the parameters, 3. Reduce noisiness in the data by fixing errors and removing outliers.."
   ]
  },
  {
   "cell_type": "markdown",
   "id": "adolescent-dream",
   "metadata": {},
   "source": [
    "16. What is a test set and why would you want to use it?"
   ]
  },
  {
   "cell_type": "markdown",
   "id": "happy-measure",
   "metadata": {},
   "source": [
    "Ans. Data is divided into train and test data. Train data is used to build a model, then we apply test data to model to find out how well our model generalises and how low the error of our model is."
   ]
  },
  {
   "cell_type": "markdown",
   "id": "temporal-miami",
   "metadata": {},
   "source": [
    "17. What is the purpose of a validation set?"
   ]
  },
  {
   "cell_type": "markdown",
   "id": "union-spectrum",
   "metadata": {},
   "source": [
    "Ans. We can divide our data further into train, test and validate. We can again build this time several models using train data, then we can apply validate data to each model and find which model gives the lowest error. Then we can select that model and finally perform it on test data to ge the best result possible out of all the models prepared."
   ]
  },
  {
   "cell_type": "markdown",
   "id": "prerequisite-seating",
   "metadata": {},
   "source": [
    "18.What precisely is the train-dev kit, when will you need it, how do you put it to use?"
   ]
  },
  {
   "cell_type": "markdown",
   "id": "promotional-morgan",
   "metadata": {},
   "source": [
    "Ans.The goal of dev-set is to rank the models in term of their accuracy and helps us decide which model to proceed further with. Using Dev set we rank all our models in terms of their accuracy and pick the best performing model."
   ]
  },
  {
   "cell_type": "markdown",
   "id": "geographic-thickness",
   "metadata": {},
   "source": [
    "19. What can go wrong if you tune hyperparameters using the test set?"
   ]
  },
  {
   "cell_type": "markdown",
   "id": "hispanic-tobago",
   "metadata": {},
   "source": [
    "Ans.The model will not generalise well."
   ]
  }
 ],
 "metadata": {
  "kernelspec": {
   "display_name": "Python 3",
   "language": "python",
   "name": "python3"
  },
  "language_info": {
   "codemirror_mode": {
    "name": "ipython",
    "version": 3
   },
   "file_extension": ".py",
   "mimetype": "text/x-python",
   "name": "python",
   "nbconvert_exporter": "python",
   "pygments_lexer": "ipython3",
   "version": "3.9.2"
  }
 },
 "nbformat": 4,
 "nbformat_minor": 5
}
