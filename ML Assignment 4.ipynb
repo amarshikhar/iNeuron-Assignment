{
 "cells": [
  {
   "cell_type": "markdown",
   "id": "sustained-battle",
   "metadata": {},
   "source": [
    "Q1. What are the key tasks involved in getting ready to work with machine learning modeling?\n",
    "\n",
    "Ans. Data gathering.\n",
    "Data preprocessing.\n",
    "Exploratory data analysis (EDA)\n",
    "Feature engineering."
   ]
  },
  {
   "cell_type": "markdown",
   "id": "painted-reader",
   "metadata": {},
   "source": [
    "Q2. What are the different forms of data used in machine learning? Give a specific example for each of them.\n",
    "\n",
    "Ans. Most data can be categorized into 4 basic types from a Machine Learning perspective: numerical data(eg height, BMI), categorical data(eg. short, tall), time-series data(eg. Date time data), and text.\n",
    "\n",
    "\n",
    "\n",
    "\n",
    "\n",
    "\n",
    "\n",
    "\n"
   ]
  },
  {
   "cell_type": "markdown",
   "id": "alike-timber",
   "metadata": {},
   "source": [
    "Q3. Distinguish:\n",
    "\n",
    "           1. Numeric vs. categorical attributes\n",
    "\n",
    "            2. Feature selection vs. dimensionality reduction\n",
    "            \n",
    "Ans. 1.Categorical data refers to a data type that can be stored and identified based on the names or labels given to them. Numerical data refers to the data that is in the form of numbers, and not in any language or descriptive form. Also known as qualitative data as it qualifies data before classifying it.\n",
    "\n",
    "2. Feature selection is simply selecting and excluding given features without changing them. Dimensionality reduction transforms features into a lower dimension."
   ]
  },
  {
   "cell_type": "markdown",
   "id": "executive-sullivan",
   "metadata": {},
   "source": [
    "Q4. Make quick notes on any two of the following:\n",
    "\n",
    "            1. The histogram\n",
    "\n",
    "             2. Use a scatter plot\n",
    "\n",
    "              3.PCA (Personal Computer Aid)\n",
    "\n",
    "Ans. 1. The histogram: A histogram is a graphical representation that organizes a group of data points into user-specified ranges. Similar in appearance to a bar graph, the histogram condenses a data series into an easily interpreted visual by taking many data points and grouping them into logical ranges or bins.\n",
    "\n",
    "2. Use a scatter plot: Use a scatter plot to determine whether or not two variables have a relationship or correlation. Are you trying to see if your two variables might mean something when put together? Plotting a scattergram with your data points can help you to determine whether there's a potential relationship between them."
   ]
  },
  {
   "cell_type": "markdown",
   "id": "north-pastor",
   "metadata": {},
   "source": [
    "Q5. Why is it necessary to investigate data? Is there a discrepancy in how qualitative and quantitative data are explored?\n",
    "\n",
    "Ans. If your data set is messy, building models will not help you to solve your problem. What will happen is “garbage in, garbage out.” In order to build a powerful machine learning algorithm. We need to explore and understand our data set before we define a predictive task and solve it. Quantitative research deals with numbers and statistics, while qualitative research deals with words and meanings. Quantitative methods allow you to systematically measure variables and test hypotheses. Qualitative methods allow you to explore concepts and experiences in more detail.\n"
   ]
  },
  {
   "cell_type": "markdown",
   "id": "catholic-worker",
   "metadata": {},
   "source": [
    "Q6. What are the various histogram shapes? What exactly are ‘bins'?\n",
    "\n",
    "Ans. Normal distribution. Skewed histograms. Bimodal Histograms. Plateau or Multimodal Distribution. Edge Peak Distribution. Comb distribution. \n",
    "\n",
    "A histogram displays numerical data by grouping data into \"bins\" of equal width. Each bin is plotted as a bar whose height corresponds to how many data points are in that bin. Bins are also sometimes called \"intervals\", \"classes\", or \"buckets\"."
   ]
  },
  {
   "cell_type": "markdown",
   "id": "elementary-textbook",
   "metadata": {},
   "source": [
    "Q7. How do we deal with data outliers?\n",
    "\n",
    "Ans.1. Drop the outlier records.\n",
    "2. Cap your outliers data.\n",
    "3. Assign a new value.\n",
    "4. Try a transformation. For example, try creating a percentile version of your original field and working with that new field instead.\n",
    "\n"
   ]
  },
  {
   "cell_type": "markdown",
   "id": "proprietary-single",
   "metadata": {},
   "source": [
    "Q8. What are the various central inclination measures? Why does mean vary too much from median in certain data sets?\n",
    "\n",
    "Ans. Three of the many ways to measure central tendency are the mean, median and mode.In skewed data mean can be largely affected by outliers and in such cases we can use median(unaffected) as a better measure of central inclination."
   ]
  },
  {
   "cell_type": "markdown",
   "id": "dangerous-recovery",
   "metadata": {},
   "source": [
    "Q9. Describe how a scatter plot can be used to investigate bivariate relationships. Is it possible to find outliers using a scatter plot?\n",
    "\n",
    "Ans. In a scatterplot of bivariate data, we use the horizontal or \"x-axis\" for the explanatory variable and the vertical, or \"y-axis\" for the response variable. If there is a regression line on a scatter plot, you can identify outliers. An outlier for a scatter plot is the point or points that are farthest from the regression line. There is at least one outlier on a scatter plot in most cases, and there is usually only one outlier./\n"
   ]
  },
  {
   "cell_type": "markdown",
   "id": "intelligent-submission",
   "metadata": {},
   "source": [
    "Q10. Describe how cross-tabs can be used to figure out how two variables are related.\n",
    "\n",
    "Ans. Cross tabulation is a method to quantitatively analyze the relationship between multiple variables. Also known as contingency tables or cross tabs, cross tabulation groups variables to understand the correlation between different variables. It also shows how correlations change from one variable grouping to another."
   ]
  }
 ],
 "metadata": {
  "kernelspec": {
   "display_name": "Python 3",
   "language": "python",
   "name": "python3"
  },
  "language_info": {
   "codemirror_mode": {
    "name": "ipython",
    "version": 3
   },
   "file_extension": ".py",
   "mimetype": "text/x-python",
   "name": "python",
   "nbconvert_exporter": "python",
   "pygments_lexer": "ipython3",
   "version": "3.9.2"
  }
 },
 "nbformat": 4,
 "nbformat_minor": 5
}
