{
 "cells": [
  {
   "cell_type": "markdown",
   "id": "treated-eclipse",
   "metadata": {},
   "source": [
    "Q1. What are the key tasks that machine learning entails? What does data pre-processing imply?\n",
    "\n",
    "Ans. Keys tasks entails:techniques for classification, prediction, recommendation, clustering, forecasting, as well as data management, data visualization, and optimization. \n",
    "Data preprocessing is the process of transforming raw data into an understandable format. To ensure high-quality data, it's crucial to preprocess it. To make the process easier, data preprocessing is divided into four stages: data cleaning, data integration, data reduction, and data transformation."
   ]
  },
  {
   "cell_type": "markdown",
   "id": "annoying-warning",
   "metadata": {},
   "source": [
    "Q2. Describe quantitative and qualitative data in depth. Make a distinction between the two.\n",
    "\n",
    "Ans. Quantitative data are measures of values or counts and are expressed as numbers. Quantitative data are data about numeric variables (e.g. how many; how much; or how often). Qualitative data are measures of 'types' and may be represented by a name, symbol, or a number code."
   ]
  },
  {
   "cell_type": "markdown",
   "id": "governing-opposition",
   "metadata": {},
   "source": [
    "Q3. Create a basic data collection that includes some sample records. Have at least one attribute from each of the machine learning data types.\n",
    "\n",
    "Ans.Most data can be categorized into 4 basic types from a Machine Learning perspective: numerical data, categorical data, time-series data, and text."
   ]
  },
  {
   "cell_type": "markdown",
   "id": "commercial-pointer",
   "metadata": {},
   "source": [
    "Q4. What are the various causes of machine learning data issues? What are the ramifications?\n",
    "\n",
    "Ans. Noisy data, incomplete data, inaccurate data, and unclean data lead to less accuracy in classification and low-quality results. Hence, data quality can be considered as a major common problem while processing machine learning algorithms."
   ]
  },
  {
   "cell_type": "markdown",
   "id": "corresponding-bridal",
   "metadata": {},
   "source": [
    "Q5. Demonstrate various approaches to categorical data exploration with appropriate examples.\n",
    "\n",
    "Ans. Categorical variables represent types of data which may be divided into groups. Examples of categorical variables are race, sex, age group, and educational level..The most common graphical tool used to summarise a categorical variable is a bar chart. A bar chart (or bar graph) is a plot that presents summaries of grouped data with rectangular bars. The lengths of the bars is proportional to the values they represent. Bar Charts : Frequency of each category plotted as bars.\n",
    "\n",
    "When working in machine learning, categories have to be associated with a numeric value, so as to give understanding to the machine. This gives an average value based on a category’s probability of occurrence i.e. Expected Value.\n",
    "It is calculated by –\n",
    "-> Multiply each outcome by its probability of occurring.\n",
    "-> Sum these values\n",
    "\n",
    "Pie Charts : Frequency of each category plotted as pie or wedges. It is a circular graph, where the arc length of each slice is proportional to the quantity it represents."
   ]
  },
  {
   "cell_type": "markdown",
   "id": "perfect-somalia",
   "metadata": {},
   "source": [
    "Q6. How would the learning activity be affected if certain variables have missing values? Having said that, what can be done about it?\n",
    "\n",
    "Ans. Missing data can reduce the statistical power of a study and can produce biased estimates, leading to invalid conclusions. data scientists can use two primary methods to solve the error: imputation or the removal of data."
   ]
  },
  {
   "cell_type": "markdown",
   "id": "painful-lunch",
   "metadata": {},
   "source": [
    "Q7. Describe the various methods for dealing with missing data values in depth.\n",
    "\n",
    "Ans. Removing Data. When dealing with missing data, data scientists can use two primary methods to solve the error: imputation or the removal of data. The imputation method develops reasonable guesses for missing data. It's most useful when the percentage of missing data is low."
   ]
  },
  {
   "cell_type": "markdown",
   "id": "simplified-olympus",
   "metadata": {},
   "source": [
    "Q8. What are the various data pre-processing techniques? Explain dimensionality reduction and function selection in a few words.\n",
    "\n",
    "Ans. Data Preprocessing Steps include Data quality assessment. Data cleaning. Data transformation. Data reduction.\n",
    "\n",
    "Dimensionality reduction, or dimension reduction, is the transformation of data from a high-dimensional space into a low-dimensional space so that the low-dimensional representation retains some meaningful properties of the original data, ideally close to its intrinsic dimension.\n",
    "\n",
    "Feature selection is the process of reducing the number of input variables when developing a predictive model. It is desirable to reduce the number of input variables to both reduce the computational cost of modeling and, in some cases, to improve the performance of the model."
   ]
  },
  {
   "cell_type": "markdown",
   "id": "sized-livestock",
   "metadata": {},
   "source": [
    "Q9.\n",
    "\n",
    "                i. What is the IQR? What criteria are used to assess it?\n",
    "\n",
    "                 ii. Describe the various components of a box plot in detail? When will the lower whisker    surpass the upper whisker in length? How can box plots be used to identify outliers?\n",
    "            \n",
    "Ans. i. In descriptive statistics, the interquartile range is a measure of statistical dispersion. It is the spread of the data or observations. The IQR may also be called the midspread, middle 50%, or H‑spread. It is defined as the spread difference between the 75th and 25th percentiles of the data.\n",
    "\n",
    "ii. A box and whisker plot—also called a box plot—displays the five-number summary of a set of data. The five-number summary is the minimum, first quartile, median, third quartile, and maximum. In a box plot, we draw a box from the first quartile to the third quartile. A vertical line goes through the box at the median. When reviewing a box plot, an outlier is defined as a data point that is located outside the whiskers of the box plot. For example, outside 1.5 times the interquartile range above the upper quartile and below the lower quartile (Q1 - 1.5 * IQR or Q3 + 1.5 * IQR).\n"
   ]
  },
  {
   "cell_type": "markdown",
   "id": "local-equation",
   "metadata": {},
   "source": [
    "Q10. Make brief notes on any two of the following:\n",
    "\n",
    "              1. Data collected at regular intervals\n",
    "\n",
    "               2. The gap between the quartiles\n",
    "\n",
    "               3. Use a cross-tab\n",
    "               \n",
    "Ans. 2. The interquartile range or IQR is the range of the middle half of a set of data. It is the difference between the upper quartile and the lower quartile. In the above example, the lower quartile is 52 and the upper quartile is 58 . The interquartile range is 58−52 or 6.\n",
    "\n",
    "3. Cross tabulation is used to quantitatively analyze the relationship between multiple variables. Cross tabulations — also referred to as contingency tables or crosstabs — group variables together and enable researchers to understand the correlation between the different variables."
   ]
  },
  {
   "cell_type": "markdown",
   "id": "formed-parker",
   "metadata": {},
   "source": [
    "Q11. Make a comparison between:\n",
    "\n",
    "1. Data with nominal and ordinal values\n",
    "\n",
    "2. Histogram and box plot\n",
    "\n",
    "3. The average and median\n",
    "\n",
    "Ans.1.Nominal data is classified without a natural order or rank, whereas ordinal data has a predetermined or natural order. On the other hand, numerical or quantitative data will always be a number that can be measured.\n",
    "\n",
    "2. Histograms and box plots are very similar in that they both help to visualize and describe numeric data. Although histograms are better in determining the underlying distribution of the data, box plots allow you to compare multiple data sets better than histograms as they are less detailed and take up less space.\n",
    "\n",
    "3.The average is calculated by adding up all of the individual values and dividing this total by the number of observations. The median is calculated by taking the “middle” value, the value for which half of the observations are larger and half are smaller."
   ]
  }
 ],
 "metadata": {
  "kernelspec": {
   "display_name": "Python 3",
   "language": "python",
   "name": "python3"
  },
  "language_info": {
   "codemirror_mode": {
    "name": "ipython",
    "version": 3
   },
   "file_extension": ".py",
   "mimetype": "text/x-python",
   "name": "python",
   "nbconvert_exporter": "python",
   "pygments_lexer": "ipython3",
   "version": "3.9.2"
  }
 },
 "nbformat": 4,
 "nbformat_minor": 5
}
