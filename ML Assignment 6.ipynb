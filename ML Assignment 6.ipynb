{
 "cells": [
  {
   "cell_type": "markdown",
   "id": "medical-enzyme",
   "metadata": {},
   "source": [
    "Q1. In the sense of machine learning, what is a model? What is the best way to train a model?\n",
    "\n",
    "Ans. A machine learning model is a file that has been trained to recognize certain types of patterns. You train a model over a set of data, providing it an algorithm that it can use to reason over and learn from those data. We divide out data into train and test data and use the train dataset to train our model."
   ]
  },
  {
   "cell_type": "markdown",
   "id": "painted-basement",
   "metadata": {},
   "source": [
    "Q2. In the sense of machine learning, explain the \"No Free Lunch\" theorem.\n",
    "\n",
    "Ans. The theorem states that all optimization algorithms perform equally well when their performance is averaged across all possible problems."
   ]
  },
  {
   "cell_type": "markdown",
   "id": "forty-guide",
   "metadata": {},
   "source": [
    "Q3. Describe the K-fold cross-validation mechanism in detail.\n",
    "\n",
    "Ans. K-fold cross-validation is defined as a method for estimating the performance of a model on unseen data. It is a technique used for hyperparameter tuning such that the model with the most optimal value of hyperparameters can be trained. It is a resampling technique without replacement.\n",
    "\n",
    "The k-fold cross validation is implemented by randomly dividing the set of observations into k groups, or folds, of approximately equal size. The first fold is treated as a validation set, and the method is fit on the remaining k-1 folds."
   ]
  },
  {
   "cell_type": "markdown",
   "id": "gorgeous-insurance",
   "metadata": {},
   "source": [
    "Q4. Describe the bootstrap sampling method. What is the aim of it?\n",
    "\n",
    "Ans. A bootstrap sample is a smaller sample that is “bootstrapped” from a larger sample. Bootstrapping is a type of resampling where large numbers of smaller samples of the same size are repeatedly drawn, with replacement, from a single original sample.\n",
    "\n",
    "The advantages of bootstrapping are that it is a straightforward way to derive the estimates of standard errors and confidence intervals, and it is convenient since it avoids the cost of repeating the experiment to get other groups of sampled data."
   ]
  },
  {
   "cell_type": "markdown",
   "id": "seventh-significance",
   "metadata": {},
   "source": [
    "Q5. What is the significance of calculating the Kappa value for a classification model? Demonstrate how to measure the Kappa value of a classification model using a sample collection of results.\n",
    "\n",
    "Ans. Kappa is used in classification as a measure of agreement between observed and predicted or inferred classes for cases in a testing dataset. The kappa statistic is used to control only those instances that may have been correctly classified by\n",
    "chance. This can be calculated using both the observed (total) accuracy and the random accuracy. Kappa can be calculated as: Kappa = (total accuracy – random accuracy) / (1- random accuracy)."
   ]
  },
  {
   "cell_type": "markdown",
   "id": "square-thought",
   "metadata": {},
   "source": [
    "Q6.Describe the model ensemble method. In machine learning, what part does it play?\n",
    "\n",
    "Ans. Ensemble methods are techniques that create multiple models and then combine them to produce improved results. Ensemble methods usually produces more accurate solutions than a single model would. The three main classes of ensemble learning methods are bagging, stacking, and boosting."
   ]
  },
  {
   "cell_type": "markdown",
   "id": "adopted-things",
   "metadata": {},
   "source": [
    "Q7. What is a descriptive model's main purpose? Give examples of real-world problems that descriptive models were used to solve.\n",
    "\n",
    "Ans.A descriptive model describes a system or other entity and its relationship to its environment. It is generally used to help specify and/or understand what the system is, what it does, and how it does it. The process is used by consumer-driven organizations to help them target their marketing and advertising efforts."
   ]
  },
  {
   "cell_type": "markdown",
   "id": "chubby-religious",
   "metadata": {},
   "source": [
    "Q8.  Describe how to evaluate a linear regression model.\n",
    "\n",
    "Ans. There are 3 main metrics for model evaluation in regression:\n",
    "R Square.:R square=(1-(squared sum error of regression line)/(squared sum error of mean line))\n",
    "Mean Square Error(MSE)/Root Mean Square Error(RMSE):MSE = mean((observeds - predicteds)^2) and RMSE = sqrt(MSE)\n",
    "Mean Absolute Error(MAE):MSE = mean(|(observeds - predicteds)|)"
   ]
  },
  {
   "cell_type": "markdown",
   "id": "isolated-project",
   "metadata": {},
   "source": [
    "Q9. Distinguish :\n",
    "\n",
    "1. Descriptive vs. predictive models\n",
    "\n",
    "2. Underfitting vs. overfitting the model\n",
    "\n",
    "3. Bootstrapping vs. cross-validation\n",
    "\n",
    "Ans. 1. Descriptive Analytics tells you what happened in the past. Diagnostic Analytics helps you understand why something happened in the past. Predictive Analytics predicts what is most likely to happen in the future.\n",
    "\n",
    "2. This situation where any given model is performing too well on the training data but the performance drops significantly over the test set is called an overfitting model. On the other hand, if the model is performing poorly over the test and the train set, then we call that an underfitting model.\n",
    "\n",
    "3. Cross validation splits the available dataset to create multiple datasets, and Bootstrapping method uses the original dataset to create multiple datasets after resampling with replacement.\n"
   ]
  },
  {
   "cell_type": "markdown",
   "id": "reverse-discussion",
   "metadata": {},
   "source": [
    "Q10. Make quick notes on:\n",
    "\n",
    "            1. LOOCV.\n",
    "\n",
    "            2. F-measurement\n",
    "\n",
    "            3. The width of the silhouette\n",
    "\n",
    "             4. Receiver operating characteristic curve\n",
    "               \n",
    "Ans.1.LOOCV(Leave One Out Cross-Validation) is a type of cross-validation approach in which each observation is considered as the validation set and the rest (N-1) observations are considered as the training set. In LOOCV, fitting of the model is done and predicting using one observation validation set.\n",
    "\n",
    "2. The traditional F measure is calculated as follows: F-Measure = (2 * Precision * Recall) / (Precision + Recall)\n",
    "\n",
    "3.The Average Silhouette Width (ASW) of a clustering is ̄ a ( i ) is the average distance of to points in the cluster to which it was assigned, and is the average distance of to the points in the nearest cluster to which it was not assigned.\n",
    "Finally the silhouette width of the observation i is defined by the formula: Si=(bi−ai)/max(ai,bi).\n",
    "\n",
    "4. A receiver operating characteristic curve, or ROC curve, is a graphical plot that illustrates the diagnostic ability of a binary classifier system as its discrimination threshold is varied. "
   ]
  },
  {
   "cell_type": "code",
   "execution_count": null,
   "id": "chicken-economics",
   "metadata": {},
   "outputs": [],
   "source": []
  }
 ],
 "metadata": {
  "kernelspec": {
   "display_name": "Python 3",
   "language": "python",
   "name": "python3"
  },
  "language_info": {
   "codemirror_mode": {
    "name": "ipython",
    "version": 3
   },
   "file_extension": ".py",
   "mimetype": "text/x-python",
   "name": "python",
   "nbconvert_exporter": "python",
   "pygments_lexer": "ipython3",
   "version": "3.9.2"
  }
 },
 "nbformat": 4,
 "nbformat_minor": 5
}
