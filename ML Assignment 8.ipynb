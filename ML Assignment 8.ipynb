{
 "cells": [
  {
   "cell_type": "markdown",
   "id": "oriental-michael",
   "metadata": {},
   "source": [
    "Q1. What exactly is a feature? Give an example to illustrate your point ?\n",
    "\n",
    "Ans: Features are the basic building blocks of datasets. The quality of the features in your dataset has a major impact on the quality of the insights you will gain when you use that dataset for machine learning.\n",
    "\n",
    "Additionally, different business problems within the same industry do not necessarily require the same features, which is why it is important to have a strong understanding of the business goals of your data science project."
   ]
  },
  {
   "cell_type": "markdown",
   "id": "hidden-porcelain",
   "metadata": {},
   "source": [
    "Q2. What are the various circumstances in which feature construction is required ?\n",
    "\n",
    "Ans: The features in your data will directly influence the predictive models you use and the results you can achieve. Your results are dependent on many inter-dependent properties. You need great features that describe the structures inherent in your data. Better features means flexibility.\n",
    "\n"
   ]
  },
  {
   "cell_type": "markdown",
   "id": "hazardous-custody",
   "metadata": {},
   "source": [
    "Q3. Describe how nominal variables are encoded ?\n",
    "\n",
    "Ans: Nominal data is made of discrete values with no numerical relationship between the different categories — mean and median are meaningless. Animal species is one example. For example, pig is not higher than bird and lower than fish.\n",
    "\n"
   ]
  },
  {
   "cell_type": "markdown",
   "id": "japanese-block",
   "metadata": {},
   "source": [
    "Q4. Describe how numeric features are converted to categorical features ?\n",
    "\n",
    "Ans: Converting categorical features into numeric features using domain knowledge. For example, we are given a list of countries and say we know the distance to these countries from India then we can replace it with distance from India. So, every country can be represented as its distance from India in specified ranges like between 100-1000 will be category A, 1000-2000 category B and so on.\n",
    "\n"
   ]
  },
  {
   "cell_type": "markdown",
   "id": "serial-compact",
   "metadata": {},
   "source": [
    "Q5. Describe the feature selection wrapper approach. State the advantages and disadvantages of this approach ?\n",
    "\n",
    "Ans: Wrapper methods measure the “usefulness” of features based on the classifier performance. In contrast, the filter methods pick up the intrinsic properties of the features (i.e., the “relevance” of the features) measured via univariate statistics instead of cross-validation performance.\n",
    "\n",
    "The wrapper classification algorithms with joint dimensionality reduction and classification can also be used but these methods have high computation cost, lower discriminative power. Moreover, these methods depend on the efficient selection of classifiers for obtaining high accuracy"
   ]
  },
  {
   "cell_type": "markdown",
   "id": "casual-indie",
   "metadata": {},
   "source": [
    "Q6. When is a feature considered irrelevant? What can be said to quantify it ?\n",
    "\n",
    "Ans: Features are considered relevant if they are either strongly or weakly relevant, and are considered irrelevant otherwise.\n",
    "\n",
    "Irrelevant features can never contribute to prediction accuracy, by definition. Also to quantify it we need to first check the list of features, There are three types of feature selection:\n",
    "\n",
    "Wrapper methods (forward, backward, and stepwise selection)\n",
    "Filter methods (ANOVA, Pearson correlation, variance thresholding)\n",
    "Embedded methods (Lasso, Ridge, Decision Tree)."
   ]
  },
  {
   "cell_type": "markdown",
   "id": "comparable-communist",
   "metadata": {},
   "source": [
    "Q7. When is a function considered redundant? What criteria are used to identify features that could be redundant ?\n",
    "\n",
    "Ans: If two features {X1, X2} are highly correlated, then the two features become redundant features since they have same information in terms of correlation measure. In other words, the correlation measure provides statistical association between any given a pair of features.\n",
    "\n",
    "Minimum redundancy feature selection is an algorithm frequently used in a method to accurately identify characteristics of genes and phenotypes"
   ]
  },
  {
   "cell_type": "markdown",
   "id": "muslim-great",
   "metadata": {},
   "source": [
    "Q8. What are the various distance measurements used to determine feature similarity ?\n",
    "\n",
    "Ans: Four of the most commonly used distance measures in machine learning are as follows:\n",
    "\n",
    "Hamming Distance.\n",
    "Euclidean Distance\n",
    "Manhattan Distance.\n",
    "Jaccard distance"
   ]
  },
  {
   "cell_type": "markdown",
   "id": "frank-guatemala",
   "metadata": {},
   "source": [
    "Q9. State difference between Euclidean and Manhattan distances ?\n",
    "\n",
    "Ans: Euclidean & Hamming distances are used to measure similarity or dissimilarity between two sequences. Euclidean distance is extensively applied in analysis of convolutional codes and Trellis codes.\n",
    "\n",
    "Hamming distance is frequently encountered in the analysis of block codes."
   ]
  },
  {
   "cell_type": "markdown",
   "id": "handled-commissioner",
   "metadata": {},
   "source": [
    "Q10. Distinguish between feature transformation and feature selection ?\n",
    "\n",
    "Ans: Feature selection is for filtering irrelevant or redundant features from your dataset. The key difference between feature selection and extraction is that feature selection keeps a subset of the original features while feature extraction creates brand new ones."
   ]
  },
  {
   "cell_type": "markdown",
   "id": "fabulous-neutral",
   "metadata": {},
   "source": [
    "Q11. Make brief notes on any two of the following:\n",
    "\n",
    "          1.SVD (Standard Variable Diameter Diameter)\n",
    "\n",
    "          2. Collection of features using a hybrid approach\n",
    "\n",
    "          3. The width of the silhouette\n",
    "\n",
    "          4. Receiver operating characteristic curve\n",
    "            \n",
    "Ans. 3. The Average Silhouette Width (ASW) of a clustering is ̄ a ( i ) is the average distance of to points in the cluster to which it was assigned, and is the average distance of to the points in the nearest cluster to which it was not assigned.Finally the silhouette width of the observation i is defined by the formula: Si=(bi−ai)/max(ai,bi).\n",
    "\n",
    "4. ROC curves are frequently used to show in a graphical way the connection/trade-off between clinical sensitivity and specificity for every possible cut-off for a test or a combination of tests. In addition the area under the ROC curve gives an idea about the benefit of using the test(s) in question.\n",
    "            \n",
    "            \n"
   ]
  }
 ],
 "metadata": {
  "kernelspec": {
   "display_name": "Python 3",
   "language": "python",
   "name": "python3"
  },
  "language_info": {
   "codemirror_mode": {
    "name": "ipython",
    "version": 3
   },
   "file_extension": ".py",
   "mimetype": "text/x-python",
   "name": "python",
   "nbconvert_exporter": "python",
   "pygments_lexer": "ipython3",
   "version": "3.9.2"
  }
 },
 "nbformat": 4,
 "nbformat_minor": 5
}
