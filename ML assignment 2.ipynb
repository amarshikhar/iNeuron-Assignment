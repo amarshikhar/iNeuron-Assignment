{
 "cells": [
  {
   "cell_type": "markdown",
   "id": "desperate-chassis",
   "metadata": {},
   "source": [
    "1. What is the concept of human learning? Please give two examples."
   ]
  },
  {
   "cell_type": "markdown",
   "id": "varied-cycle",
   "metadata": {},
   "source": [
    "Ans.It is the form of learning which requires higher order mental processes like thinking, reasoning, intelligence, etc. we learn different concepts from childhood. For example, when we see a dog and attach the term 'dog', we learn that the word dog refers to a particular animal."
   ]
  },
  {
   "cell_type": "markdown",
   "id": "common-september",
   "metadata": {},
   "source": [
    "2.What different forms of human learning are there? Are there any machine learning equivalents?"
   ]
  },
  {
   "cell_type": "markdown",
   "id": "apparent-queue",
   "metadata": {},
   "source": [
    "Ans.There are three main types of himan learning: classical conditioning, operant conditioning, and observational learning.Supervised learning is similar to concept learning, where a person is required to classify new objects into existing categories, by matching the features of the new objects to examples in the categories. Artificial neural networks follow the neuronal principle of Hebbian learning, where the algorithm centres on inputs with similar properties, just like how neurons that activate simultaneously strengthen the synaptic link between each other.Reinforcement learning is inspired by the reward system of operant conditioning"
   ]
  },
  {
   "cell_type": "markdown",
   "id": "durable-theme",
   "metadata": {},
   "source": [
    "3. What is machine learning, and how does it work? What are the key responsibilities of machine\n",
    "learning?"
   ]
  },
  {
   "cell_type": "markdown",
   "id": "remarkable-briefs",
   "metadata": {},
   "source": [
    "Ans.A machine learning (ML) developer is an expert on using data to training models. The models are then used to automate processes like image classification, speech recognition, and market forecasting. A machine learning (ML) developer is an expert on using data to training models."
   ]
  },
  {
   "cell_type": "markdown",
   "id": "placed-generator",
   "metadata": {},
   "source": [
    "4) Define the terms penalty and reward in the context of reinforcement learning."
   ]
  },
  {
   "cell_type": "markdown",
   "id": "sensitive-commerce",
   "metadata": {},
   "source": [
    "Ans.A reinforcement learning algorithm, which may also be referred to as an agent, learns by interacting with its environment. The agent receives rewards by performing correctly and penalties for performing incorrectly. The agent learns without intervention from a human by maximizing its reward and minimizing its penalty."
   ]
  },
  {
   "cell_type": "markdown",
   "id": "moderate-survivor",
   "metadata": {},
   "source": [
    "5) Explain the term learning as a search?"
   ]
  },
  {
   "cell_type": "markdown",
   "id": "intended-florida",
   "metadata": {},
   "source": [
    "Ans.Learning can be viewed as a search through the space of all sentences in a concept description language for a sentence that best describes the data. Alternatively, it can be viewed as a search through all hypotheses in a hypothesis space."
   ]
  },
  {
   "cell_type": "markdown",
   "id": "documentary-wrestling",
   "metadata": {},
   "source": [
    "6) What are the various goals of machine learning? What is the relationship between these and\n",
    "human learning?"
   ]
  },
  {
   "cell_type": "markdown",
   "id": "increased-rwanda",
   "metadata": {},
   "source": [
    "Ans.The Goals of Machine Learning.\n",
    "(1) To make the computers smarter, more intelligent. The more direct objective in this aspect is to develop systems (programs) for specific practical learning tasks in application domains. (2) To develop computational models of human learning process and perform computer simulations.\n",
    "While Human Intelligence aims to adapt to new environments by utilizing a combination of different cognitive processes, Artificial Intelligence aims to build machines that can mimic human behavior and perform human-like actions."
   ]
  },
  {
   "cell_type": "markdown",
   "id": "finite-hygiene",
   "metadata": {},
   "source": [
    "7) Illustrate the various elements of machine learning using a real-life illustration."
   ]
  },
  {
   "cell_type": "markdown",
   "id": "subtle-proportion",
   "metadata": {},
   "source": [
    "Ans.Image recognition, Speech recognition, Algortithmic trading are some of the elements of machine learning."
   ]
  },
  {
   "cell_type": "markdown",
   "id": "robust-trick",
   "metadata": {},
   "source": [
    "8) Provide an example of the abstraction method."
   ]
  },
  {
   "cell_type": "markdown",
   "id": "dietary-tyler",
   "metadata": {},
   "source": [
    "Ans. In simple terms, abstraction “displays” only the relevant attributes of objects and “hides” the unnecessary details. For example, when we are driving a car, we are only concerned about driving the car like start/stop the car, accelerate/ break, etc."
   ]
  },
  {
   "cell_type": "markdown",
   "id": "intensive-wagner",
   "metadata": {},
   "source": [
    "9) What is the concept of generalization? What function does it play in the machine learning\n",
    "process?"
   ]
  },
  {
   "cell_type": "markdown",
   "id": "entire-laptop",
   "metadata": {},
   "source": [
    "Ans. Generalization refers to your model's ability to adapt properly to new, previously unseen data, drawn from the same distribution as the one used to create the model."
   ]
  },
  {
   "cell_type": "markdown",
   "id": "loaded-tablet",
   "metadata": {},
   "source": [
    "10) What is classification, exactly? What are the main distinctions between classification and regression?"
   ]
  },
  {
   "cell_type": "markdown",
   "id": "nervous-desert",
   "metadata": {},
   "source": [
    "Ans. In classification we have labeled data y belonging to {1,0} or {-1,1} in case of binary classification, and y belong to {1,2,3..k} in multi class classification. In regression our label can be any real number."
   ]
  },
  {
   "cell_type": "markdown",
   "id": "finnish-falls",
   "metadata": {},
   "source": [
    "11) What is regression, and how does it work? Give an example of a real-world problem that was\n",
    "solved using regression."
   ]
  },
  {
   "cell_type": "markdown",
   "id": "legislative-gardening",
   "metadata": {},
   "source": [
    "Ans. Regression is a statistical method used in finance, investing, and other disciplines that attempts to determine the strength and character of the relationship between one dependent variable (usually denoted by Y) and a series of other variables (known as independent variables).\n",
    "eg. Medical researchers often use linear regression to understand the relationship between drug dosage and blood pressure of patients. For example, researchers might administer various dosages of a certain drug to patients and observe how their blood pressure responds."
   ]
  },
  {
   "cell_type": "markdown",
   "id": "hairy-union",
   "metadata": {},
   "source": [
    "12) Describe the clustering mechanism in detail."
   ]
  },
  {
   "cell_type": "markdown",
   "id": "accessory-reference",
   "metadata": {},
   "source": [
    "Ans.It is basically a type of unsupervised learning method. An unsupervised learning method is a method in which we draw references from datasets consisting of input data without labeled responses. Generally, it is used as a process to find meaningful structure, explanatory underlying processes, generative features, and groupings inherent in a set of examples. \n",
    "\n",
    "Clustering is the task of dividing the population or data points into a number of groups such that data points in the same groups are more similar to other data points in the same group and dissimilar to the data points in other groups. It is basically a collection of objects on the basis of similarity and dissimilarity between them. "
   ]
  },
  {
   "cell_type": "markdown",
   "id": "thousand-surname",
   "metadata": {},
   "source": [
    "13) Make brief observations on two of the following topics:\n",
    "\n",
    "i. Machine learning algorithms are used\n",
    "ii. Studying under supervision\n",
    "iii. Studying without supervision\n",
    "\n",
    "iv. Reinforcement learning is a form of learning based on positive reinforcement."
   ]
  },
  {
   "cell_type": "markdown",
   "id": "hollow-period",
   "metadata": {},
   "source": [
    "Ans. i. At its most basic, machine learning uses programmed algorithms that receive and analyse input data to predict output values within an acceptable range. As new data is fed to these algorithms, they learn and optimise their operations to improve performance, developing 'intelligence' over time.\n",
    "\n",
    "ii. Supervised learning is an approach to creating artificial intelligence (AI), where a computer algorithm is trained on input data that has been labeled for a particular output. "
   ]
  }
 ],
 "metadata": {
  "kernelspec": {
   "display_name": "Python 3",
   "language": "python",
   "name": "python3"
  },
  "language_info": {
   "codemirror_mode": {
    "name": "ipython",
    "version": 3
   },
   "file_extension": ".py",
   "mimetype": "text/x-python",
   "name": "python",
   "nbconvert_exporter": "python",
   "pygments_lexer": "ipython3",
   "version": "3.9.2"
  }
 },
 "nbformat": 4,
 "nbformat_minor": 5
}
