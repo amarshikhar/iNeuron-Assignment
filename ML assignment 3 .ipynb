{
 "cells": [
  {
   "cell_type": "markdown",
   "id": "former-guyana",
   "metadata": {},
   "source": [
    "1.Explain the term machine learning, and how does it work? Explain two machine learning applications in the business world. What are some of the ethical concerns that machine learning applications could raise?\n",
    "\n",
    "ANS.Algorithm that improves in some task with experience is called a machine learning algorithm. When we input Data and output to computer it outputs a program, then when we again input program and data into computer it given an ouput. This is the setup of machine learning. It can be used for spam filter and web search.\n",
    "\n",
    "Some ethical concerns: AI is not neutral: AI-based decisions are susceptible to inaccuracies, discriminatory outcomes, embedded or inserted bias. Surveillance practices for data gathering and privacy of court users."
   ]
  },
  {
   "cell_type": "markdown",
   "id": "unlike-verse",
   "metadata": {},
   "source": [
    "2. Describe the process of human learning:\n",
    "           i. Under the supervision of experts\n",
    "\n",
    "           ii. With the assistance of experts in an indirect manner\n",
    "\n",
    "            iii. Self-education\n",
    "            \n",
    "            \n",
    "Ans. "
   ]
  },
  {
   "cell_type": "markdown",
   "id": "official-processor",
   "metadata": {},
   "source": [
    "\n",
    "3. Provide a few examples of various types of machine learning.\n",
    "\n",
    "Ans. Supervised machine learning eq. spam filters, Unsupervised machine learning eg. clustering, reinforced learning eg. robots."
   ]
  },
  {
   "cell_type": "markdown",
   "id": "social-cliff",
   "metadata": {},
   "source": [
    "4. Examine the various forms of machine learning.\n",
    "\n",
    "Ans. Supervised machine learning: Given labeled examples, find the correct prediction of an unlabeled example.\n",
    "Unsupervised learning: Given data, try to discover similar pattern, structures and sub-spaces.\n",
    "Re-inforced learning: Learn from delayed feedback.\n"
   ]
  },
  {
   "cell_type": "markdown",
   "id": "athletic-motor",
   "metadata": {},
   "source": [
    "5. Can you explain what a well-posed learning problem is? Explain the main characteristics that must be present to identify a learning problem properly.\n",
    "\n",
    "Ans. Data, (x_i,y_i) where x_i are features and y_i labels are drawn from unknown distribution P(x,y).\n",
    "We want to learn h such that for a new pair (x,y)~P(x,y), h(x)=y with high probability. A well-posed learning problem has label space, feature vectors and hypothesis class."
   ]
  },
  {
   "cell_type": "markdown",
   "id": "current-mathematics",
   "metadata": {},
   "source": [
    "6) Is machine learning capable of solving all problems? Give a detailed explanation of your answer.\n",
    "\n",
    "Ans. While it is undeniable that AI has opened up a wealth of promising opportunities, it has also led to the emergence of a mindset that can be best described as “AI solutionism”. This is the philosophy that, given enough data, machine learning algorithms can solve all of humanity's problems.\n",
    "While it can solve a plethora of challenges, there are a few tasks which ML fails to answer.\n",
    "1. ML algorithms lack the ability to reason beyond their intended application. They can tell if a fruit is an apple but can't introspect if it is good to eat or not\n",
    "2. ML does not have an overall idea of the situation. It is limited by mnemonic interpretations rather than thinking to see what is actually going on.\n",
    "3. Growing data has to be dealt the right way if shared on an ML platform which again needs examination through knowledge and intuition apparently lacked by current ML.\n",
    "4. Data privacy remains to be solved.\n",
    "5. the internal working of DL is still unknown and yet to be solved."
   ]
  },
  {
   "cell_type": "markdown",
   "id": "unlike-journal",
   "metadata": {},
   "source": [
    "7) What are the various methods and technologies for solving machine learning problems? Any two of them should be defined in detail.\n",
    "\n",
    "Ans. Methods: regressin,classification and clustering. Technologies: Sklearn and Tensorflow.\n",
    "\n",
    "The sklearn library contains a lot of efficient tools for machine learning and statistical modeling including classification, regression, clustering and dimensionality reduction.\n",
    "\n",
    "TensorFlow is an open-source library developed by Google primarily for deep learning applications. "
   ]
  },
  {
   "cell_type": "markdown",
   "id": "informational-private",
   "metadata": {},
   "source": [
    "8) Can you explain the various forms of supervised learning? Explain each one with an example application.\n",
    "\n",
    "Ans. Regression: In regression, a single output value is produced using training data. This value is a probabilistic interpretation, which is ascertained after considering the strength of correlation among the input variables. For example, regression can help predict the price of a house based on its locality, size, etc. \n",
    "\n",
    "Classification: It involves grouping the data into classes.  If you are thinking of extending credit to a person, you can use classification to determine whether or not a person would be a loan defaulter. When the supervised learning algorithm labels input data into two distinct classes, it is called binary classification. Multiple classifications means categorizing data into more than two classes."
   ]
  },
  {
   "cell_type": "markdown",
   "id": "conventional-geneva",
   "metadata": {},
   "source": [
    "9) What is the difference between supervised and unsupervised learning? With a sample application in each region, explain the differences.\n",
    "\n",
    "Ans. The main difference between supervised and unsupervised learning: Labeled data. The main distinction between the two approaches is the use of labeled datasets. To put it simply, supervised learning uses labeled input and output data, while an unsupervised learning algorithm does not.\n",
    "\n",
    "Supervised Learning is used in areas of risk assessment, image classification, fraud detection, visual recognition, etc.\n",
    "\n",
    "Unsupervised Learning areas of application include market basket analysis, semantic clustering, recommender systems, etc."
   ]
  },
  {
   "cell_type": "markdown",
   "id": "dimensional-balloon",
   "metadata": {},
   "source": [
    "10) Make brief notes on any two of the following:\n",
    "     i. MATLAB is one of the most widely used programming languages.\n",
    "    \n",
    "        ii. Deep learning applications in healthcare\n",
    "\n",
    "        iii. Study of the market basket\n",
    "\n",
    "         iv. Linear regression (simple)\n",
    "            \n",
    "Ans. i. MATLAB makes the hard parts of machine learning easy with: Point-and-click apps for training and comparing models. Advanced signal processing and feature extraction techniques. Automatic machine learning (AutoML) including feature selection, model selection and hyperparameter tuning.\n",
    "MATLAB is used by Engineers and Scientists to develop, automate and integrate deep learning models into their domain-specific workflows. It helps them achieve this by providing: An open framework that supports interoperability with Python and other open source deep learning frameworks.\n",
    "\n",
    "ii. Deep learning models can interpret medical images like X-ray, MRI scan, CT scan, etc., to perform diagnosis. The algorithms can detect any risk and flag anomalies in the medical images. Deep learning is extensively used in detecting cancer."
   ]
  },
  {
   "cell_type": "markdown",
   "id": "discrete-share",
   "metadata": {},
   "source": [
    "11. Make a comparison between:-\n",
    "\n",
    "         1. Generalization and abstraction\n",
    "\n",
    "          2. Learning that is guided and unsupervised\n",
    "\n",
    "          3. Regression and classification\n",
    "          \n",
    "Ans 1. Generalization and abstraction: While abstraction reduces complexity by hiding irrelevant detail, generalization reduces complexity by replacing multiple entities which perform similar functions with a single construct.\n",
    "\n",
    "2. Learning that is guided and unsupervised:  Unsupervised Learning. Supervised learning algorithms are trained using labeled data. Unsupervised learning algorithms are trained using unlabeled data. Supervised learning model takes direct feedback to check if it is predicting correct output or not.\n",
    "\n",
    "3.Regression and classification: In Regression, the output variable must be of continuous nature or real value. In Classification, the output variable must be a discrete value. The task of the regression algorithm is to map the input value (x) with the continuous output variable(y)."
   ]
  },
  {
   "cell_type": "code",
   "execution_count": null,
   "id": "forbidden-binary",
   "metadata": {},
   "outputs": [],
   "source": []
  }
 ],
 "metadata": {
  "kernelspec": {
   "display_name": "Python 3",
   "language": "python",
   "name": "python3"
  },
  "language_info": {
   "codemirror_mode": {
    "name": "ipython",
    "version": 3
   },
   "file_extension": ".py",
   "mimetype": "text/x-python",
   "name": "python",
   "nbconvert_exporter": "python",
   "pygments_lexer": "ipython3",
   "version": "3.9.2"
  }
 },
 "nbformat": 4,
 "nbformat_minor": 5
}
