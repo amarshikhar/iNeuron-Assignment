{
 "cells": [
  {
   "cell_type": "markdown",
   "id": "descending-business",
   "metadata": {},
   "source": [
    "Q1. Add the current date to the text file today.txt as a string."
   ]
  },
  {
   "cell_type": "code",
   "execution_count": 1,
   "id": "vanilla-bonus",
   "metadata": {},
   "outputs": [
    {
     "name": "stdout",
     "output_type": "stream",
     "text": [
      "15-03-2022\n"
     ]
    }
   ],
   "source": [
    "import datetime\n",
    "# Code to Add current date to the today.txt file\n",
    "file = open('today.txt','w')\n",
    "file.write(datetime.datetime.now().strftime(\"%d-%m-%Y\"))\n",
    "file.close()\n",
    "# Code to Read current date from today.txt file\n",
    "file = open('today.txt','r')\n",
    "print(file.read())\n",
    "file.close()"
   ]
  },
  {
   "cell_type": "markdown",
   "id": "proud-morning",
   "metadata": {},
   "source": [
    "Q2. Read the text file today.txt into the string today_string."
   ]
  },
  {
   "cell_type": "code",
   "execution_count": 3,
   "id": "tender-glasgow",
   "metadata": {},
   "outputs": [
    {
     "name": "stdout",
     "output_type": "stream",
     "text": [
      "15-03-2022\n"
     ]
    }
   ],
   "source": [
    "file = open('today.txt','r')\n",
    "today_string = file.read()\n",
    "print(today_string)"
   ]
  },
  {
   "cell_type": "markdown",
   "id": "confident-lightweight",
   "metadata": {},
   "source": [
    "Q3. Parse the date from today_string."
   ]
  },
  {
   "cell_type": "code",
   "execution_count": 4,
   "id": "vocational-theta",
   "metadata": {},
   "outputs": [
    {
     "name": "stdout",
     "output_type": "stream",
     "text": [
      "2022-03-15 00:00:00\n"
     ]
    }
   ],
   "source": [
    "from datetime import datetime\n",
    "parsed_data = datetime.strptime(today_string, '%d-%m-%Y')\n",
    "print(parsed_data)"
   ]
  },
  {
   "cell_type": "markdown",
   "id": "answering-survey",
   "metadata": {},
   "source": [
    "Q4. List the files in your current directory."
   ]
  },
  {
   "cell_type": "code",
   "execution_count": 5,
   "id": "anonymous-fleet",
   "metadata": {},
   "outputs": [
    {
     "name": "stdout",
     "output_type": "stream",
     "text": [
      "Python basic assignment 3.ipynb\n",
      "Python basic programming assignment 3.ipynb\n",
      "Python basic assignment 18.ipynb\n",
      "Python basic programming assignment 1.ipynb\n",
      "Python basic assignment 1.ipynb\n",
      "Python basic programming assignment 5.ipynb\n",
      "Python basic assignment 5.ipynb\n",
      "Python basic assignment 21.ipynb\n",
      "Python basic assignment 7.ipynb\n",
      "today.txt\n",
      "Python basic programming assignment 2.ipynb\n",
      "Python basic assignment 2.ipynb\n",
      "zoo.py\n",
      "Python basic assignment 19.ipynb\n",
      "Python basic assignment 20.ipynb\n",
      "Python basic assignment 6.ipynb\n",
      "Python basic assignment 4.ipynb\n",
      "Python basic programming assignment 4.ipynb\n",
      "Python basic assignment 13.ipynb\n",
      "Python basic assignment 8.ipynb\n",
      "books.csv\n",
      "pic2.jpg\n",
      "Python basic assignment 11.ipynb\n",
      "Python basic assignment 15.ipynb\n",
      "Python basic programming assignment 10.ipynb\n",
      "Python basic assignment 17.ipynb\n",
      "test.txt\n",
      "Python basic assignment 10.ipynb\n",
      "Python basic assignment 12.ipynb\n",
      "Python basic assignment 9.ipynb\n",
      "Pic.jpg\n",
      "books.db\n",
      "application_log.txt\n",
      "Python basic assignment 16.ipynb\n",
      "Python basic assignment 14.ipynb\n",
      "university_records.csv\n",
      "ML assignment 18.ipynb\n",
      ".DS_Store\n",
      "ML Assignment 9.ipynb\n",
      "ML Assignment 23.ipynb\n",
      "ML Assignment 24.ipynb\n",
      "ML assignment 3 .ipynb\n",
      "img.jpg\n",
      "ML Assignment 22.ipynb\n",
      "ML Assignment 8.ipynb\n",
      "ML Assignment 4.ipynb\n",
      "ML Assignment 6.ipynb\n",
      "ML assignment 2.ipynb\n",
      "ML Assignment 17.ipynb\n",
      "ML Assignment 15.ipynb\n",
      "img1.jpg\n",
      "ML Assignment 12.ipynb\n",
      "ML Assignment 7.ipynb\n",
      "ML Assignment 5.ipynb\n",
      "Assignment_10.docx\n",
      "ML Assignment 10.ipynb\n",
      "ML Assignment 14.ipynb\n",
      "Assignment_11.docx\n",
      "ML Assignement 1.ipynb\n",
      "ML Assignment 16.ipynb\n",
      "ML Assignment 14-checkpoint.ipynb\n",
      "ML Assignment 10-checkpoint.ipynb\n",
      "ML Assignment 5-checkpoint.ipynb\n",
      "ML Assignment 15-checkpoint.ipynb\n",
      "ML assignment 3 -checkpoint.ipynb\n",
      "ML Assignment 4-checkpoint.ipynb\n",
      "ML Assignment 24-checkpoint.ipynb\n",
      "ML Assignement 1-checkpoint.ipynb\n",
      "ML Assignment 16-checkpoint.ipynb\n",
      "ML Assignment 8-checkpoint.ipynb\n",
      "ML Assignment 23-checkpoint.ipynb\n",
      "ML Assignment 7-checkpoint.ipynb\n",
      "ML Assignment 12-checkpoint.ipynb\n",
      "ML Assignment 9-checkpoint.ipynb\n",
      "ML Assignment 17-checkpoint.ipynb\n",
      "ML assignment 2-checkpoint.ipynb\n",
      "ML Assignment 22-checkpoint.ipynb\n",
      "ML assignment 18-checkpoint.ipynb\n",
      "ML Assignment 6-checkpoint.ipynb\n",
      "zoo.cpython-39.pyc\n",
      "Python basic assignment 19-checkpoint.ipynb\n",
      "Python basic assignment 12-checkpoint.ipynb\n",
      "Python basic assignment 16-checkpoint.ipynb\n",
      "Python basic assignment 18-checkpoint.ipynb\n",
      "Python basic assignment 13-checkpoint.ipynb\n",
      "Python basic assignment 17-checkpoint.ipynb\n",
      "Python basic assignment 10-checkpoint.ipynb\n",
      "Python basic assignment 21-checkpoint.ipynb\n",
      "Python basic assignment 14-checkpoint.ipynb\n",
      "Python basic assignment 7-checkpoint.ipynb\n",
      "Python basic assignment 11-checkpoint.ipynb\n",
      "Python basic assignment 20-checkpoint.ipynb\n",
      "Python basic assignment 15-checkpoint.ipynb\n"
     ]
    }
   ],
   "source": [
    "import os\n",
    "for folders, subfolders, files in os.walk(os.getcwd()):\n",
    "    for file in files:\n",
    "        print(file)"
   ]
  },
  {
   "cell_type": "markdown",
   "id": "every-separate",
   "metadata": {},
   "source": [
    "Q5. Create a list of all of the files in your parent directory (minimum five files should be available)."
   ]
  },
  {
   "cell_type": "code",
   "execution_count": 6,
   "id": "loose-vermont",
   "metadata": {},
   "outputs": [
    {
     "data": {
      "text/plain": [
       "['Python basic assignment 3.ipynb',\n",
       " 'Python basic programming assignment 3.ipynb',\n",
       " 'Python basic assignment 18.ipynb',\n",
       " 'Python basic programming assignment 1.ipynb',\n",
       " 'Python basic assignment 1.ipynb',\n",
       " 'Python basic programming assignment 5.ipynb',\n",
       " 'Python basic assignment 5.ipynb',\n",
       " 'Python basic assignment 21.ipynb',\n",
       " 'Python basic assignment 7.ipynb',\n",
       " 'today.txt',\n",
       " 'ML assignemnt ',\n",
       " 'Python basic programming assignment 2.ipynb',\n",
       " 'Python basic assignment 2.ipynb',\n",
       " 'zoo.py',\n",
       " 'Python basic assignment 19.ipynb',\n",
       " 'Python basic assignment 20.ipynb',\n",
       " 'Python basic assignment 6.ipynb',\n",
       " 'Python basic assignment 4.ipynb',\n",
       " '__pycache__',\n",
       " 'Python basic programming assignment 4.ipynb',\n",
       " 'Python basic assignment 13.ipynb',\n",
       " 'Python basic assignment 8.ipynb',\n",
       " 'books.csv',\n",
       " 'pic2.jpg',\n",
       " 'Python basic assignment 11.ipynb',\n",
       " 'Python basic assignment 15.ipynb',\n",
       " 'Python basic programming assignment 10.ipynb',\n",
       " 'Python basic assignment 17.ipynb',\n",
       " 'test.txt',\n",
       " '.ipynb_checkpoints',\n",
       " 'Python basic assignment 10.ipynb',\n",
       " 'Python basic assignment 12.ipynb',\n",
       " 'Python basic assignment 9.ipynb',\n",
       " 'Pic.jpg',\n",
       " 'books.db',\n",
       " 'application_log.txt',\n",
       " 'Python basic assignment 16.ipynb',\n",
       " 'Python basic assignment 14.ipynb',\n",
       " 'university_records.csv']"
      ]
     },
     "execution_count": 6,
     "metadata": {},
     "output_type": "execute_result"
    }
   ],
   "source": [
    "import os \n",
    "os.listdir()"
   ]
  },
  {
   "cell_type": "markdown",
   "id": "alternative-emerald",
   "metadata": {},
   "source": [
    "Q6. Use multiprocessing to create three separate processes. Make each one wait a random number of seconds between one and five, print the current time, and then exit.\n"
   ]
  },
  {
   "cell_type": "code",
   "execution_count": 7,
   "id": "infinite-timer",
   "metadata": {},
   "outputs": [],
   "source": [
    "import multiprocessing\n",
    "import time \n",
    "import random\n",
    "import datetime\n",
    "\n",
    "def procOne():\n",
    "    print(f'Proc_one_Starttime -> {datetime.datetime.now()}')\n",
    "    time.sleep(random.randint(1,5))\n",
    "    print(f'Proc_one_Endtime -> {datetime.datetime.now()}')\n",
    "    \n",
    "def procTwo():\n",
    "    print(f'Proc_two_Starttime -> {datetime.datetime.now()}')\n",
    "    time.sleep(random.randint(1,5))\n",
    "    print(f'Proc_two_Endtime -> {datetime.datetime.now()}')\n",
    "\n",
    "def procThree():\n",
    "    print(f'Proc_two_Starttime -> {datetime.datetime.now()}')\n",
    "    time.sleep(random.randint(1,5))\n",
    "    print(f'Proc_two_Endtime -> {datetime.datetime.now()}')\n",
    "    \n",
    "if __name__ == \"__main__\":    \n",
    "    p1 = multiprocessing.Process(target=procOne)\n",
    "    p2 = multiprocessing.Process(target=procTwo)\n",
    "    p3 = multiprocessing.Process(target=procThree)\n",
    "\n",
    "    p1.start()\n",
    "    p2.start()\n",
    "    p3.start()\n",
    "\n",
    "    p1.join()\n",
    "    p2.join()\n",
    "    p3.join()"
   ]
  },
  {
   "cell_type": "markdown",
   "id": "lucky-solution",
   "metadata": {},
   "source": [
    "Q7. Create a date object of your day of birth."
   ]
  },
  {
   "cell_type": "code",
   "execution_count": 8,
   "id": "pharmaceutical-forth",
   "metadata": {},
   "outputs": [
    {
     "name": "stdout",
     "output_type": "stream",
     "text": [
      "1997-04-22 00:00:00 <class 'datetime.datetime'>\n"
     ]
    }
   ],
   "source": [
    "from datetime import datetime\n",
    "my_dob = datetime.strptime('22/04/1997','%d/%m/%Y')\n",
    "print(my_dob, type(my_dob))"
   ]
  },
  {
   "cell_type": "markdown",
   "id": "bibliographic-circumstances",
   "metadata": {},
   "source": [
    "Q8. What day of the week was your day of birth?"
   ]
  },
  {
   "cell_type": "code",
   "execution_count": 9,
   "id": "enclosed-islam",
   "metadata": {},
   "outputs": [
    {
     "data": {
      "text/plain": [
       "'Tuesday'"
      ]
     },
     "execution_count": 9,
     "metadata": {},
     "output_type": "execute_result"
    }
   ],
   "source": [
    "from datetime import datetime\n",
    "my_dob = datetime(1997,4,22)\n",
    "my_dob.strftime(\"%A\")"
   ]
  },
  {
   "cell_type": "markdown",
   "id": "liquid-pension",
   "metadata": {},
   "source": [
    "Q9. When will you be (or when were you) 10,000 days old?"
   ]
  },
  {
   "cell_type": "code",
   "execution_count": 10,
   "id": "documented-disco",
   "metadata": {},
   "outputs": [
    {
     "data": {
      "text/plain": [
       "datetime.datetime(1969, 12, 5, 0, 0)"
      ]
     },
     "execution_count": 10,
     "metadata": {},
     "output_type": "execute_result"
    }
   ],
   "source": [
    "from datetime import datetime, timedelta\n",
    "my_dob = datetime.strptime(\"22/04/1997\",'%d/%m/%Y')\n",
    "future_date = my_dob-timedelta(10000)\n",
    "future_date"
   ]
  },
  {
   "cell_type": "code",
   "execution_count": null,
   "id": "resistant-governor",
   "metadata": {},
   "outputs": [],
   "source": []
  }
 ],
 "metadata": {
  "kernelspec": {
   "display_name": "Python 3",
   "language": "python",
   "name": "python3"
  },
  "language_info": {
   "codemirror_mode": {
    "name": "ipython",
    "version": 3
   },
   "file_extension": ".py",
   "mimetype": "text/x-python",
   "name": "python",
   "nbconvert_exporter": "python",
   "pygments_lexer": "ipython3",
   "version": "3.9.2"
  }
 },
 "nbformat": 4,
 "nbformat_minor": 5
}
